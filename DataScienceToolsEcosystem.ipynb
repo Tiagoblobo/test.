{
 "cells": [
  {
   "cell_type": "markdown",
   "id": "40f98f0d-86f4-4a56-a85d-f5dff0cdae1a",
   "metadata": {},
   "source": [
    "# Data Science Tools and Ecosystem \n"
   ]
  },
  {
   "cell_type": "markdown",
   "id": "f8aa8893-2e63-40ba-a86d-fd847db6f49c",
   "metadata": {},
   "source": [
    "## Neste notebook, as Ferramentas e Ecossistema de Ciência de Dados são resumidos."
   ]
  },
  {
   "cell_type": "markdown",
   "id": "861e7daf-80f1-4458-a4a4-39eb451893e1",
   "metadata": {},
   "source": [
    "**Objetivo**\n",
    "- Algumas das linguagens populares que os Cientistas de Dados usam são\n",
    "- Algumas das bibliotecas comumente usadas por Cientistas de Dados incluem\n",
    "- Alguns exemplos de avaliação de expressões aritméticas em Python\n",
    "- Ferramentas de Ciência de Dados de código \n"
   ]
  },
  {
   "cell_type": "markdown",
   "id": "feafc50a-5659-40cb-86e9-507586bbb516",
   "metadata": {},
   "source": [
    "## Algumas das linguagens populares que os Cientistas de Dados usam são:\n",
    "1. Python\n",
    "2. R\n",
    "3. SQL\n",
    "4. Julia\n",
    "5. Scala\n",
    "6. Java\n",
    "\n"
   ]
  },
  {
   "cell_type": "markdown",
   "id": "a80986ea-3cb9-408f-93a1-845952e9f3ae",
   "metadata": {},
   "source": [
    "### Algumas das bibliotecas comumente usadas por Cientistas de Dados incluem:\n",
    "1. Pandas\n",
    "2. Numpy\n",
    "3. Matplolib\n",
    "4. Seaborn\n",
    "5. Scikit-Learn\n",
    "6. TensorFlow"
   ]
  },
  {
   "cell_type": "markdown",
   "id": "21794357-0fe5-4667-812b-15cf252047f6",
   "metadata": {},
   "source": [
    " |Ferramentas de Ciência de Dados|\n",
    " |-------------------------------|\n",
    " | Python                        |   \n",
    " | R                             |\n",
    " | Apache Hadoop                 |\n",
    "    "
   ]
  },
  {
   "cell_type": "markdown",
   "id": "d98b8e14-86fa-412c-8096-5425cc89f081",
   "metadata": {},
   "source": [
    "### Abaixo estão alguns exemplos de avaliação de expressões aritméticas em Python\n",
    "1. **soma**\n",
    "8 + 2 = 10\n",
    "2. **subitração**\n",
    "8- 2 = 6\n",
    "4. **muiltpição**\n",
    "8 * 2 = 16\n",
    "4. **divisão**\n",
    "8 / 2 =    \n",
    "      \n",
    "\n"
   ]
  },
  {
   "cell_type": "code",
   "execution_count": 13,
   "id": "633c726c-7860-454c-970a-2aac809a6f28",
   "metadata": {},
   "outputs": [
    {
     "data": {
      "text/plain": [
       "17"
      ]
     },
     "execution_count": 13,
     "metadata": {},
     "output_type": "execute_result"
    }
   ],
   "source": [
    "#Esta é uma expressão aritmética simples para multiplicar e depois adicionar inteiros\n",
    "(3*4)+5"
   ]
  },
  {
   "cell_type": "code",
   "execution_count": 21,
   "id": "4ac51593-7f41-410d-9af6-6bd1b86fdb9c",
   "metadata": {},
   "outputs": [
    {
     "data": {
      "text/plain": [
       "3.3333333333333335"
      ]
     },
     "execution_count": 21,
     "metadata": {},
     "output_type": "execute_result"
    }
   ],
   "source": [
    "#Isso converterá 200 minutos em horas dividindo por 60\n",
    "minutos = 200\n",
    "horas = minutos / 60 \n",
    "horas\n"
   ]
  },
  {
   "cell_type": "markdown",
   "id": "62922de6-9f3a-4566-a426-18483a820e2c",
   "metadata": {},
   "source": [
    "## Autor\n",
    "Tiago Bertani Lobo"
   ]
  }
 ],
 "metadata": {
  "kernelspec": {
   "display_name": "Python 3 (ipykernel)",
   "language": "python",
   "name": "python3"
  },
  "language_info": {
   "codemirror_mode": {
    "name": "ipython",
    "version": 3
   },
   "file_extension": ".py",
   "mimetype": "text/x-python",
   "name": "python",
   "nbconvert_exporter": "python",
   "pygments_lexer": "ipython3",
   "version": "3.12.8"
  }
 },
 "nbformat": 4,
 "nbformat_minor": 5
}
