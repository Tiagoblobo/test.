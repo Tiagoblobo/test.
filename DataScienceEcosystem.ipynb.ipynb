{
 "cells": [
  {
   "cell_type": "markdown",
   "id": "c54414c0-07bc-4467-b214-623f12e48b85",
   "metadata": {},
   "source": [
    "# Data Science Tools and Ecosystem "
   ]
  },
  {
   "cell_type": "markdown",
   "id": "ca4654b3-56d8-477d-8f96-349e18485caa",
   "metadata": {},
   "source": [
    "## In this notebook, Data Science Tools and Ecosystem are summarized"
   ]
  },
  {
   "cell_type": "markdown",
   "id": "2d7fad5f-38da-4603-a09e-cefdce9cb615",
   "metadata": {},
   "source": [
    "**Objective**\n",
    "- popular languages in the Data Scientists\n",
    "- commonly used libraries used by Data Scientists\n",
    "- examples of evaluating arithmetic expressions in Python"
   ]
  },
  {
   "cell_type": "markdown",
   "id": "5748849f-2c94-42b6-82ae-66c189d17dc7",
   "metadata": {},
   "source": [
    "### Some of the popular languages that Data Scientists use are:\n",
    "1. Python\n",
    "2. R\n",
    "3. SQL\n",
    "4. Julia\n",
    "5. Scala\n",
    "6. Java"
   ]
  },
  {
   "cell_type": "markdown",
   "id": "3170e05e-6d90-46e3-bedc-85fd1fa147cd",
   "metadata": {},
   "source": [
    "### Create a markdown cell to list data science libraries\n",
    "1. Pandas\n",
    "2. Numpy\n",
    "3. Matplolib\n",
    "4. Seaborn\n",
    "5. Scikit-Learn\n",
    "6. TensorFlow"
   ]
  },
  {
   "cell_type": "markdown",
   "id": "c2b009df-2502-4331-a904-29f54f5c99ba",
   "metadata": {},
   "source": [
    "|Data Science Tools|\n",
    "|------------------|\n",
    "|Python|\n",
    "|Apache Hadoop|\n",
    "|R|"
   ]
  },
  {
   "cell_type": "markdown",
   "id": "4b20cccf-8b6b-4f41-bd78-b319c4e41b12",
   "metadata": {},
   "source": [
    "### Below are a few examples of evaluating arithmetic expressions in Python\n"
   ]
  },
  {
   "cell_type": "code",
   "execution_count": 5,
   "id": "106fd77b-1223-4acc-b85e-5f30ce7e142f",
   "metadata": {},
   "outputs": [
    {
     "data": {
      "text/plain": [
       "17"
      ]
     },
     "execution_count": 5,
     "metadata": {},
     "output_type": "execute_result"
    }
   ],
   "source": [
    "#This a simple arithmetic expression to mutiply then add integers\n",
    "(3*4)+5"
   ]
  },
  {
   "cell_type": "code",
   "execution_count": 6,
   "id": "cd5902c8-9895-4b6b-bbf1-eff047c72b5a",
   "metadata": {},
   "outputs": [
    {
     "data": {
      "text/plain": [
       "3.3333333333333335"
      ]
     },
     "execution_count": 6,
     "metadata": {},
     "output_type": "execute_result"
    }
   ],
   "source": [
    "#This will convert 200 minutes to hours by diving by 60\n",
    "minutes = 200\n",
    "hours = minutes / 60\n",
    "hours"
   ]
  },
  {
   "cell_type": "markdown",
   "id": "3f40bbdd-cdc1-43a6-b1c2-64956851547a",
   "metadata": {},
   "source": [
    "## Author\n",
    "Tiago Bertni Lobo "
   ]
  },
  {
   "cell_type": "code",
   "execution_count": null,
   "id": "08abbcf7-3b0a-4a9c-9238-da1e61c9e3f6",
   "metadata": {},
   "outputs": [],
   "source": []
  }
 ],
 "metadata": {
  "kernelspec": {
   "display_name": "Python 3 (ipykernel)",
   "language": "python",
   "name": "python3"
  },
  "language_info": {
   "codemirror_mode": {
    "name": "ipython",
    "version": 3
   },
   "file_extension": ".py",
   "mimetype": "text/x-python",
   "name": "python",
   "nbconvert_exporter": "python",
   "pygments_lexer": "ipython3",
   "version": "3.12.8"
  }
 },
 "nbformat": 4,
 "nbformat_minor": 5
}
